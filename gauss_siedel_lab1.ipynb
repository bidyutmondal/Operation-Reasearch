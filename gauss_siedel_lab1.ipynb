{
  "nbformat": 4,
  "nbformat_minor": 0,
  "metadata": {
    "colab": {
      "name": "gauss_siedel_lab1.ipynb",
      "provenance": []
    },
    "kernelspec": {
      "name": "python3",
      "display_name": "Python 3"
    }
  },
  "cells": [
    {
      "cell_type": "code",
      "metadata": {
        "id": "iUeSK-JNhbhe",
        "colab": {
          "base_uri": "https://localhost:8080/"
        },
        "outputId": "c924fd23-aaac-44b1-f4d6-72dc436a7a3f"
      },
      "source": [
        "#Name- Bidyut Mondal\r\n",
        "#Roll- 18MA20010\r\n",
        "#LAB1\r\n",
        "\r\n",
        "import numpy as np\r\n",
        "\r\n",
        "#some dummy variables\r\n",
        "a = []\r\n",
        "variables = 0\r\n",
        "\r\n",
        "#Gauss Siedel algo\r\n",
        "def gauss(a, x ,b):         \r\n",
        "    n = len(a)                    \r\n",
        "    for j in range(0, n):         \r\n",
        "        d = b[j]                   \r\n",
        "        for i in range(0, n):      \r\n",
        "            if(j != i): \r\n",
        "                d-=a[j][i] * x[i]          \r\n",
        "        x[j] = d / a[j][j]            \r\n",
        "    return x    \r\n",
        "\r\n",
        "#Helper function for the cases m<n\r\n",
        "def fun(arr, t):\r\n",
        "    if(len(arr)==extra):\r\n",
        "        a_temp = np.delete(a, arr, axis=1)\r\n",
        "        x = [0]*eqns\r\n",
        "        for i in range(0, 100): x = gauss(a_temp, x, b)\r\n",
        "        for ele in arr: x.insert(ele, 0)\r\n",
        "        for ele in x:\r\n",
        "            if(ele>10000000000 or ele<-10000000000):\r\n",
        "                print(x,\"----DID NOT CONVERGE\")\r\n",
        "                return \r\n",
        "            if(ele<0): \r\n",
        "                print(x,\"----NOT FEASIBLE\")\r\n",
        "                return            \r\n",
        "        print(x,\"----FEASIBLE\")\r\n",
        "        return\r\n",
        "    if(variables==t): return\r\n",
        "    arr.append(t)\r\n",
        "    fun(arr, t+1)\r\n",
        "    arr.remove(t)\r\n",
        "    fun(arr, t+1)    \r\n",
        "\r\n",
        "#Taking inputs\r\n",
        "eqns = int(input(\"No. of equations : \"))\r\n",
        "variables = int(input(\"No. of Unknown variables : \"))\r\n",
        "\r\n",
        "print(\"Enter the coefficients one line at a time :\")\r\n",
        "for i in range(0, eqns):\r\n",
        "    t = list(map(float, input(\"=> \").strip().split()))[:variables]\r\n",
        "    a.append(t)\r\n",
        "a = np.asarray(a)\r\n",
        "b = list(map(float, input(\"Enter the results of each equation in one line : \").strip().split()))[:eqns]\r\n",
        "b = np.asarray(b)\r\n",
        "extra = variables - eqns \r\n",
        "\r\n",
        "#Printing the solutions\r\n",
        "print(\"\\nThe possible solutions are:\")    \r\n",
        "fun([], 0) #Calling the function               "
      ],
      "execution_count": 64,
      "outputs": [
        {
          "output_type": "stream",
          "text": [
            "No. of equations : 2\n",
            "No. of Unknown variables : 3\n",
            "Enter the coefficients one line at a time :\n",
            "=> .5 2 1\n",
            "=> 1 2 4\n",
            "Enter the results of each equation in one line : 24 60\n",
            "\n",
            "The possible solutions are:\n",
            "[0, 6.0, 12.0] ----FEASIBLE\n",
            "[36.0, 0, 6.0] ----FEASIBLE\n",
            "[-1.5211807202738753e+31, 7.605903601369376e+30, 0] ----DID NOT CONVERGE\n"
          ],
          "name": "stdout"
        }
      ]
    }
  ]
}